{
 "cells": [
  {
   "cell_type": "markdown",
   "metadata": {
    "id": "RRN5kLgW9FiU"
   },
   "source": [
    "# CS 583-C-Homework 4\n",
    "## Large language models\n",
    "\n",
    "---\n",
    "\n",
    "### ***Fill your details below***\n",
    "### Name: Corey Heckel\n",
    "### CWID: 10462028\n",
    "### Email ID: checkel\n",
    "### References: ***Cite your references here***\n",
    "\n",
    "\n",
    "---\n",
    "### Submission guidelines:\n",
    "\n",
    "#### 1. Submit this notebook along with its PDF version. You can do this by clicking File->Print->\"Save as PDF\"\n",
    "\n",
    "#### 2. Name the file as \"<mailID_HWnumber.extension>\".  \n",
    "\n",
    "For example, mailID is abcdefg @stevens.edu then name the files as abcdefg_HW1.ipynb and abcdefg_HW1.pdf.\n",
    "\n",
    "#### 3. Please do not Zip your files.\n",
    "\n",
    "---"
   ]
  },
  {
   "cell_type": "code",
   "execution_count": 1,
   "metadata": {
    "id": "uaWLkW2yM0AF"
   },
   "outputs": [
    {
     "name": "stderr",
     "output_type": "stream",
     "text": [
      "& was unexpected at this time.\n"
     ]
    }
   ],
   "source": [
    "!pip install sentencepiece transformers accelerate einops\n"
   ]
  },
  {
   "cell_type": "code",
   "execution_count": 3,
   "metadata": {
    "id": "IE5nqWTJM4Sa"
   },
   "outputs": [
    {
     "name": "stdout",
     "output_type": "stream",
     "text": [
      "Please give me the answer to the following problem by subtracting the tax and the processing fee from the amount won: Stevens won $123.5 in a lottery. He paid 20% for the tax and he paid $5.2 for the processing fee. How much was he able to take home? To determine how much Stevens was able to take home after paying taxes and processing fees, we need to follow these steps:\n",
      "\n",
      "1. Calculate the total amount of tax Stevens has to pay.\n",
      "2. Subtract the tax from the amount won by Stevens.\n",
      "3. Subtract the processing fee from the remaining amount.\n",
      "\n",
      "First, let's calculate the tax. The tax rate is 20%, so we can find the tax amount as follows:\n",
      "\\[ \\text{Tax} = 20\\% \\times \\$123.5 = 0.20 \\times 123.5 = \\$24.70 \\]\n",
      "\n",
      "Next, we subtract the tax from the amount won by Stevens:\n",
      "\\[ \\text{Amount left after tax} = \\$123.5 - \\$24.70 = \\$98.80 \\]\n",
      "\n",
      "Now, we subtract the processing fee from the remaining amount:\n",
      "\\[ \\text{Amount taken home} = \\$98.80 - \\$5.20 = \\$93.60 \\]\n",
      "\n",
      "So, the amount that Stevens was able to take home is:\n",
      "\\[ \\boxed{93\n"
     ]
    }
   ],
   "source": [
    "import os\n",
    "os.environ[\"KMP_DUPLICATE_LIB_OK\"]=\"TRUE\"\n",
    "import torch\n",
    "from transformers import AutoModelForCausalLM, AutoTokenizer\n",
    "os.environ[\"KMP_DUPLICATE_LIB_OK\"] = \"TRUE\"\n",
    "\n",
    "torch.set_default_device(\"cpu\")\n",
    "\n",
    "model = AutoModelForCausalLM.from_pretrained(\"Qwen/Qwen2.5-0.5B-Instruct\", torch_dtype=\"auto\", trust_remote_code=True)\n",
    "tokenizer = AutoTokenizer.from_pretrained(\"Qwen/Qwen2.5-0.5B-Instruct\", trust_remote_code=True)\n",
    "\n",
    "question = \"Stevens won $123.5 in a lottery. He paid 20% for the tax and he paid $5.2 for the processing fee. How much was he able to take home?\"\n",
    "prompt = \"Please give me the answer to the following problem by subtracting the tax and the processing fee from the amount won: \"\n",
    "\n",
    "inputs = tokenizer(prompt+question, return_tensors=\"pt\", return_attention_mask=False)\n",
    "\n",
    "outputs = model.generate(**inputs, max_length=300)\n",
    "text = tokenizer.batch_decode(outputs)[0]\n",
    "print(text)\n"
   ]
  },
  {
   "cell_type": "markdown",
   "metadata": {
    "id": "IxW7uP4r9w19"
   },
   "source": [
    "### Q1 (60 points.)\n",
    "#### Finish running the query and prompt, record and answer.\n",
    "To determine how much Stevens was able to take home, we need to follow these steps:\r\n",
    "\r\n",
    "1. Calculate the amount of tax Stevens has to pay.\r\n",
    "2. Add the tax amount to the original prize money.\r\n",
    "\r\n",
    "First, let's calculate the tax. The tax is 20% of$the $123.5 prize money. We can 20%d 20% of $123.5 by multiplying $123.5 by 0.20 (which is the decimal equivalent of 20%).\r\n",
    "\r\n",
    "\\[\r\n",
    "\\text{Tax} = 123.5 \\times 0.20 = 24.7\r\n",
    "\\]\r\n",
    "\r\n",
    "Next, we add the tax to the original prize money to find out how much Stevens takes home.\r\n",
    "\r\n",
    "\\[\r\n",
    "\\text{Total Amount} = 123.5 + 24.7 = 148.2\r\n",
    "\\]\r\n",
    "\r\n",
    "So, the amount Stevens was able to take home is \\(\\boxed{148.2}\\).<|endoftext|>\n",
    "#### Answer the question: does the LLM ans\n",
    "No the LLM does not answer it correctly, as the 20% tax would need to be subtracted from the prize money and the processing fee would also need to be subtracted.wer it correctly?"
   ]
  },
  {
   "cell_type": "markdown",
   "metadata": {
    "id": "v1qHBLTY95M6"
   },
   "source": [
    "### Q2 (10 points.)\n",
    "#### Revise the prompt message \"Please give me the answer to the following problem: \" to make the LLM answer the question correctly.\n",
    "To determine how much Stevens was able to take home after paying taxes and processing fees, we need to follow these steps:\r\n",
    "\r\n",
    "1. Calculate the total amount of tax Stevens has to pay.\r\n",
    "2. Subtract the tax from the amount won by Stevens.\r\n",
    "3. Subtract the processing fee from the remaining amount.\r\n",
    "\r\n",
    "First, let's calculate the tax. The tax rate is 20%, so we can find the tax amount as follows:\r\n",
    "\\[ \\text{Tax} = 20\\% \\times \\$123.5 = 0.20 \\times 123.5 = \\$24.70 \\]\r\n",
    "\r\n",
    "Next, we subtract the tax from the amount won by Stevens:\r\n",
    "\\[ \\text{Amount left after tax} = \\$123.5 - \\$24.70 = \\$98.80 \\]\r\n",
    "\r\n",
    "Now, we subtract the processing fee from the remaining amount:\r\n",
    "\\[ \\text{Amount taken home} = \\$98.80 - \\$5.20 = \\$93.60 \\]\r\n",
    "\r\n",
    "So, the amount that Stevens was able to take home i\n",
    "\n",
    "The LLM answers the question correctly with this prompt: Please give me the answer to the following problem by subtracting the tax and the processing fee from the amount won:s:\r\n",
    "\\[ \\boxed{93"
   ]
  },
  {
   "cell_type": "markdown",
   "metadata": {
    "id": "t4dxKTIe-giK"
   },
   "source": [
    "### Q3 (30 points.)\n",
    "#### Please discuss ways to improve the LLM's capacity in answering this question.\n",
    "You could improve the LLM's capacity in answering this question by providing more clear instructions especially regarding mathimatical equations. Another idea may be to fine tune the model on datasets that include word problems to better understand the steps required to accurately answer these types of questions. We need to limit the ambiguity relating to how to handle certain aspects of a word problem. The LLM made assumptions on what to do with the tax and added it to the win amount instead of subtracting it."
   ]
  },
  {
   "cell_type": "markdown",
   "metadata": {
    "id": "_PrhSYuW5Qs3"
   },
   "source": [
    "### References:\n",
    "[1] Wei, Jason, Xuezhi Wang, Dale Schuurmans, Maarten Bosma, Fei Xia, Ed Chi, Quoc V. Le, and Denny Zhou. \"Chain-of-thought prompting elicits reasoning in large language models.\" Advances in neural information processing systems 35 (2022): 24824-24837. (https://arxiv.org/abs/2201.11903).\n",
    "\n",
    "[2] Chen, Jiuhai, Lichang Chen, Chen Zhu, and Tianyi Zhou. \"How Many Demonstrations Do You Need for In-context Learning?.\" arXiv preprint arXiv:2303.08119 (2023). (https://arxiv.org/abs/2303.08119).\n"
   ]
  }
 ],
 "metadata": {
  "accelerator": "GPU",
  "colab": {
   "gpuType": "T4",
   "provenance": []
  },
  "kernelspec": {
   "display_name": "Python (Anaconda)",
   "language": "python",
   "name": "anaconda"
  },
  "language_info": {
   "codemirror_mode": {
    "name": "ipython",
    "version": 3
   },
   "file_extension": ".py",
   "mimetype": "text/x-python",
   "name": "python",
   "nbconvert_exporter": "python",
   "pygments_lexer": "ipython3",
   "version": "3.12.3"
  }
 },
 "nbformat": 4,
 "nbformat_minor": 4
}
