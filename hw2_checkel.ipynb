{
 "cells": [
  {
   "cell_type": "markdown",
   "id": "9718e7fe",
   "metadata": {},
   "source": [
    "# CS559 HW 2"
   ]
  },
  {
   "cell_type": "markdown",
   "id": "3e32c797",
   "metadata": {},
   "source": [
    "Load the provided data set"
   ]
  },
  {
   "cell_type": "code",
   "execution_count": 21,
   "id": "741b40c6",
   "metadata": {},
   "outputs": [
    {
     "data": {
      "text/html": [
       "<div>\n",
       "<style scoped>\n",
       "    .dataframe tbody tr th:only-of-type {\n",
       "        vertical-align: middle;\n",
       "    }\n",
       "\n",
       "    .dataframe tbody tr th {\n",
       "        vertical-align: top;\n",
       "    }\n",
       "\n",
       "    .dataframe thead th {\n",
       "        text-align: right;\n",
       "    }\n",
       "</style>\n",
       "<table border=\"1\" class=\"dataframe\">\n",
       "  <thead>\n",
       "    <tr style=\"text-align: right;\">\n",
       "      <th></th>\n",
       "      <th>X</th>\n",
       "      <th>Y</th>\n",
       "    </tr>\n",
       "  </thead>\n",
       "  <tbody>\n",
       "    <tr>\n",
       "      <th>0</th>\n",
       "      <td>1</td>\n",
       "      <td>1</td>\n",
       "    </tr>\n",
       "    <tr>\n",
       "      <th>1</th>\n",
       "      <td>0</td>\n",
       "      <td>0</td>\n",
       "    </tr>\n",
       "    <tr>\n",
       "      <th>2</th>\n",
       "      <td>0</td>\n",
       "      <td>0</td>\n",
       "    </tr>\n",
       "    <tr>\n",
       "      <th>3</th>\n",
       "      <td>1</td>\n",
       "      <td>0</td>\n",
       "    </tr>\n",
       "    <tr>\n",
       "      <th>4</th>\n",
       "      <td>1</td>\n",
       "      <td>0</td>\n",
       "    </tr>\n",
       "  </tbody>\n",
       "</table>\n",
       "</div>"
      ],
      "text/plain": [
       "   X  Y\n",
       "0  1  1\n",
       "1  0  0\n",
       "2  0  0\n",
       "3  1  0\n",
       "4  1  0"
      ]
     },
     "execution_count": 21,
     "metadata": {},
     "output_type": "execute_result"
    }
   ],
   "source": [
    "import pandas as pd\n",
    "df = pd.read_csv('./data.csv')\n",
    "df.head()"
   ]
  },
  {
   "cell_type": "markdown",
   "id": "e9b77669",
   "metadata": {},
   "source": [
    "Calculating the prior probability of x, y, p(x=0), p(x=1), p(y=0), p(y=1)"
   ]
  },
  {
   "cell_type": "code",
   "execution_count": 22,
   "id": "d651c2bf",
   "metadata": {},
   "outputs": [
    {
     "name": "stdout",
     "output_type": "stream",
     "text": [
      "p(x=0) = 0.5555555555555556\n",
      "p(x=1) = 0.4444444444444444\n",
      "p(y=0) = 0.5252525252525253\n",
      "p(y=1) = 0.47474747474747475\n"
     ]
    }
   ],
   "source": [
    "prob_x_0 = len(df[df['X'] == 0]) / len(df)\n",
    "prob_x_1 = len(df[df['X'] == 1]) / len(df)\n",
    "prob_y_0 = len(df[df['Y'] == 0]) / len(df)\n",
    "prob_y_1 = len(df[df['Y'] == 1]) / len(df)\n",
    "print(f'p(x=0) = {prob_x_0}')\n",
    "print(f'p(x=1) = {prob_x_1}')\n",
    "print(f'p(y=0) = {prob_y_0}')\n",
    "print(f'p(y=1) = {prob_y_1}')"
   ]
  },
  {
   "cell_type": "markdown",
   "id": "e5c1a0c8",
   "metadata": {},
   "source": [
    "Calculating the liklihood of x, p(x=0|y=0), p(x=1|y=0), p(x=0|y=1), p(x=1|y=1)"
   ]
  },
  {
   "cell_type": "code",
   "execution_count": 23,
   "id": "e62ea310",
   "metadata": {},
   "outputs": [
    {
     "name": "stdout",
     "output_type": "stream",
     "text": [
      "p(x=0|y=0) = 0.5769230769230769\n",
      "p(x=1|y=0) = 0.4230769230769231\n",
      "p(x=0|y=1) = 0.5319148936170213\n",
      "p(x=1|y=1) = 0.46808510638297873\n"
     ]
    }
   ],
   "source": [
    "prob_x_0_given_y_0 = len(df[(df['X'] == 0) & (df['Y'] == 0)]) / len(df[df['Y'] == 0])\n",
    "prob_x_1_given_y_0 = len(df[(df['X'] == 1) & (df['Y'] == 0)]) / len(df[df['Y'] == 0])\n",
    "prob_x_0_given_y_1 = len(df[(df['X'] == 0) & (df['Y'] == 1)]) / len(df[df['Y'] == 1])\n",
    "prob_x_1_given_y_1 = len(df[(df['X'] == 1) & (df['Y'] == 1)]) / len(df[df['Y'] == 1])\n",
    "print(f'p(x=0|y=0) = {prob_x_0_given_y_0}')\n",
    "print(f'p(x=1|y=0) = {prob_x_1_given_y_0}')\n",
    "print(f'p(x=0|y=1) = {prob_x_0_given_y_1}')\n",
    "print(f'p(x=1|y=1) = {prob_x_1_given_y_1}')"
   ]
  },
  {
   "cell_type": "markdown",
   "id": "3bc4401d",
   "metadata": {},
   "source": [
    "Calculating the probability of y, p(y)"
   ]
  },
  {
   "cell_type": "code",
   "execution_count": 24,
   "id": "e4817257",
   "metadata": {},
   "outputs": [
    {
     "name": "stdout",
     "output_type": "stream",
     "text": [
      "p(y) = [0.5252525252525253, 0.47474747474747475]\n"
     ]
    }
   ],
   "source": [
    "prob_y = [prob_y_0, prob_y_1]\n",
    "print(f'p(y) = {prob_y}')"
   ]
  },
  {
   "cell_type": "markdown",
   "id": "a807035a",
   "metadata": {},
   "source": [
    "Calculating the posterior probabilities of p(y=1|x=0), p(y=0|x=0), p(y=1|x=1), p(y=0|x=1)"
   ]
  },
  {
   "cell_type": "code",
   "execution_count": 25,
   "id": "d0f2812e",
   "metadata": {},
   "outputs": [
    {
     "name": "stdout",
     "output_type": "stream",
     "text": [
      "p(y=1|x=0) = 0.45454545454545453\n",
      "p(y=0|x=0) = 0.5454545454545454\n",
      "p(y=1|x=1) = 0.5000000000000001\n",
      "p(y=0|x=1) = 0.5000000000000001\n"
     ]
    }
   ],
   "source": [
    "prob_y_1_given_x_0 = (prob_x_0_given_y_1 * prob_y_1) / prob_x_0\n",
    "prob_y_0_given_x_0 = (prob_x_0_given_y_0 * prob_y_0) / prob_x_0\n",
    "prob_y_1_given_x_1 = (prob_x_1_given_y_1 * prob_y_1) / prob_x_1\n",
    "prob_y_0_given_x_1 = (prob_x_1_given_y_0 * prob_y_0) / prob_x_1\n",
    "print(f'p(y=1|x=0) = {prob_y_1_given_x_0}')\n",
    "print(f'p(y=0|x=0) = {prob_y_0_given_x_0}')\n",
    "print(f'p(y=1|x=1) = {prob_y_1_given_x_1}')\n",
    "print(f'p(y=0|x=1) = {prob_y_0_given_x_1}')"
   ]
  }
 ],
 "metadata": {
  "kernelspec": {
   "display_name": "Python 3 (ipykernel)",
   "language": "python",
   "name": "python3"
  },
  "language_info": {
   "codemirror_mode": {
    "name": "ipython",
    "version": 3
   },
   "file_extension": ".py",
   "mimetype": "text/x-python",
   "name": "python",
   "nbconvert_exporter": "python",
   "pygments_lexer": "ipython3",
   "version": "3.9.12"
  }
 },
 "nbformat": 4,
 "nbformat_minor": 5
}
