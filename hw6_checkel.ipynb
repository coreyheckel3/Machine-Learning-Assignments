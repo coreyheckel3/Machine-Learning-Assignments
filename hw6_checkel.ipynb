{
 "cells": [
  {
   "cell_type": "markdown",
   "id": "25b0ea05",
   "metadata": {},
   "source": [
    "# CS 559 HW 6"
   ]
  },
  {
   "cell_type": "markdown",
   "id": "6ead5a10",
   "metadata": {},
   "source": [
    "# Non-Linear Regression"
   ]
  },
  {
   "cell_type": "code",
   "execution_count": 1,
   "id": "47121c1b",
   "metadata": {},
   "outputs": [],
   "source": [
    "import numpy as np\n",
    "np.random.seed(124)\n",
    "X = np.random.rand(50) * 10 - 5\n",
    "Y = 3.1 * np.random.rand() * X ** 3 - 1.2 * np.random.rand() * X ** 2 + 5 * np.random.rand() * X + 10 * np.random.rand(50)\n",
    "np.random.seed(1)\n",
    "x = np.random.rand(10) * 10 - 4\n",
    "y = 3.1 * np.random.rand() * x ** 3 - 1.2 * np.random.rand() * x ** 2 + 5 * np.random.rand() * x + 10 * np.random.rand(10)"
   ]
  },
  {
   "cell_type": "markdown",
   "id": "70c60125",
   "metadata": {},
   "source": [
    "Implement an RBF kernel matrix calculation method (kernel matrix(X, γ)), where\n",
    "X is the train data and γ is a constant used in an RBF kernel function,\n",
    "k(xn, xm) = exp(−γ||xn − xm||2)\n",
    "where γ must be greater than 0"
   ]
  },
  {
   "cell_type": "code",
   "execution_count": 2,
   "id": "4ef5a164",
   "metadata": {},
   "outputs": [],
   "source": [
    "def kernel_matrix(X, gamma):\n",
    "\n",
    "    n_samples = X.shape[0]\n",
    "    K = np.zeros((n_samples, n_samples))\n",
    "    \n",
    "    for i in range(n_samples):\n",
    "        for j in range(n_samples):\n",
    "            K[i, j] = np.exp(-gamma * (X[i] - X[j])**2)\n",
    "    \n",
    "    return K"
   ]
  },
  {
   "cell_type": "markdown",
   "id": "9440ca7e",
   "metadata": {},
   "source": [
    "Use sklearn.kernel ridge.KernelRidge (KernelRidge(alpha, kernel)) to build\n",
    "kernel ridge regression models using the kernel matrix from Question 1.1. using any combination of alpha=[1E-5, 1E-4, 1E-3, 1E-2] and γ = [1, 10, 100, 1000, 10000]. Find the best\n",
    "hyperparameter of alpha and γ. Generalize the model using the test data set. Report the\n",
    "mean squared error (MSE) value"
   ]
  },
  {
   "cell_type": "code",
   "execution_count": 3,
   "id": "02064c0e",
   "metadata": {},
   "outputs": [
    {
     "name": "stdout",
     "output_type": "stream",
     "text": [
      "Best alpha: 0.01, Best gamma: 1, MSE: 225.03005611411095\n"
     ]
    }
   ],
   "source": [
    "from sklearn.kernel_ridge import KernelRidge\n",
    "from sklearn.metrics import mean_squared_error\n",
    "from sklearn.model_selection import GridSearchCV\n",
    "\n",
    "parameters = {\n",
    "    'alpha': [1e-5, 1e-4, 1e-3, 1e-2],\n",
    "    'gamma': [1, 10, 100, 1000, 10000]\n",
    "}\n",
    "\n",
    "kr = KernelRidge(kernel = 'rbf')\n",
    "search = GridSearchCV(kr, parameters, cv = 5)\n",
    "search.fit(X.reshape(-1, 1), Y)\n",
    "\n",
    "best_alpha = search.best_params_['alpha']\n",
    "best_gamma = search.best_params_['gamma']\n",
    "\n",
    "best_kr = KernelRidge(alpha = best_alpha, kernel = 'rbf', gamma = best_gamma)\n",
    "best_kr.fit(X.reshape(-1, 1), Y)\n",
    "\n",
    "y_prediction = best_kr.predict(x.reshape(-1, 1))\n",
    "mse = mean_squared_error(y, y_prediction)\n",
    "print(f\"Best alpha: {best_alpha}, Best gamma: {best_gamma}, MSE: {mse}\")"
   ]
  },
  {
   "cell_type": "markdown",
   "id": "1241bd66",
   "metadata": {},
   "source": [
    "Build an SVM regression (sklearn.svm.SVR) model using GridSearchCV. Find\n",
    "the hyperparameters of the best train model. Generalize the model and report the MSE\n",
    "value."
   ]
  },
  {
   "cell_type": "code",
   "execution_count": 4,
   "id": "a6542844",
   "metadata": {},
   "outputs": [
    {
     "name": "stdout",
     "output_type": "stream",
     "text": [
      "Best parameters (SVR): {'C': 1000, 'epsilon': 2, 'gamma': 'scale'}, MSE (SVR): 219.15911580251677\n"
     ]
    }
   ],
   "source": [
    "from sklearn.svm import SVR\n",
    "\n",
    "svr_parameters = {\n",
    "    'C': [0.1, 1, 10, 100, 1000],\n",
    "    'epsilon': [0.01, 0.1, 0.5, 1, 2],\n",
    "    'gamma': ['scale', 'auto', 0.1, 1, 10, 100]\n",
    "}\n",
    "\n",
    "svr = SVR(kernel='rbf')\n",
    "svr_search = GridSearchCV(svr, svr_parameters, cv = 5)\n",
    "svr_search.fit(X.reshape(-1, 1), Y)\n",
    "\n",
    "svr_best_parameters = svr_search.best_params_\n",
    "\n",
    "svr_best = SVR(kernel = 'rbf', ** svr_best_parameters)\n",
    "svr_best.fit(X.reshape(-1, 1), Y)\n",
    "\n",
    "svr_y_prediction = svr_best.predict(x.reshape(-1, 1))\n",
    "svr_mse = mean_squared_error(y, svr_y_prediction)\n",
    "print(f\"Best parameters (SVR): {svr_best_parameters}, MSE (SVR): {svr_mse}\")"
   ]
  },
  {
   "cell_type": "markdown",
   "id": "4c0cadde",
   "metadata": {},
   "source": [
    "Transform the train data so φ(X) is linear in the new feature space. The transformed\n",
    "data, φ(X), must have one feature. Build a linear regression model using sklearn linear\n",
    "regression. Generalize the model and report the MSE value."
   ]
  },
  {
   "cell_type": "code",
   "execution_count": 5,
   "id": "6569fff0",
   "metadata": {},
   "outputs": [
    {
     "name": "stdout",
     "output_type": "stream",
     "text": [
      "MSE (Linear Regression): 351.67727378247\n"
     ]
    }
   ],
   "source": [
    "from sklearn.linear_model import LinearRegression\n",
    "\n",
    "phi_X = X.reshape(-1, 1)\n",
    "\n",
    "linear_regression = LinearRegression()\n",
    "linear_regression.fit(phi_X, Y)\n",
    "\n",
    "phi_x = x.reshape(-1, 1)\n",
    "linear_y_prediction = linear_regression.predict(phi_x)\n",
    "linear_mse = mean_squared_error(y, linear_y_prediction)\n",
    "print(f\"MSE (Linear Regression): {linear_mse}\")"
   ]
  }
 ],
 "metadata": {
  "kernelspec": {
   "display_name": "Python 3 (ipykernel)",
   "language": "python",
   "name": "python3"
  },
  "language_info": {
   "codemirror_mode": {
    "name": "ipython",
    "version": 3
   },
   "file_extension": ".py",
   "mimetype": "text/x-python",
   "name": "python",
   "nbconvert_exporter": "python",
   "pygments_lexer": "ipython3",
   "version": "3.9.12"
  }
 },
 "nbformat": 4,
 "nbformat_minor": 5
}
