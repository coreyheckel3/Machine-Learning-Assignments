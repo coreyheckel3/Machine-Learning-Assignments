{
 "cells": [
  {
   "cell_type": "markdown",
   "id": "13691665",
   "metadata": {},
   "source": [
    "# CS 559 Homework 3"
   ]
  },
  {
   "cell_type": "markdown",
   "id": "cb0dfa59",
   "metadata": {},
   "source": [
    "Generate data and split into test and train sets"
   ]
  },
  {
   "cell_type": "code",
   "execution_count": 1,
   "id": "17cf0d06",
   "metadata": {},
   "outputs": [
    {
     "name": "stdout",
     "output_type": "stream",
     "text": [
      "Training set size: (80, 4)\n",
      "Test set size: (20, 4)\n"
     ]
    }
   ],
   "source": [
    "from sklearn import datasets\n",
    "import numpy as np\n",
    "X, y = datasets.make_blobs(n_samples = 100, n_features = 4, centers = 2, cluster_std = 1.5, random_state = 123)\n",
    "y = np.array([-1 if i == 0 else 1 for i in y])\n",
    "from sklearn.model_selection import train_test_split\n",
    "X_train, X_test, y_train, y_test = train_test_split(X, y, test_size = 0.2, random_state = 42)\n",
    "\n",
    "print(\"Training set size:\", X_train.shape)\n",
    "print(\"Test set size:\", X_test.shape)"
   ]
  },
  {
   "cell_type": "markdown",
   "id": "c03c3796",
   "metadata": {},
   "source": [
    "# LDA"
   ]
  },
  {
   "cell_type": "markdown",
   "id": "918b26c4",
   "metadata": {},
   "source": [
    "Write a method that computes the between-class scatter matrix SB . Compute SB using a train data."
   ]
  },
  {
   "cell_type": "code",
   "execution_count": 2,
   "id": "85a31a3b",
   "metadata": {},
   "outputs": [
    {
     "name": "stdout",
     "output_type": "stream",
     "text": [
      "Between-class scatter matrix S_B:\n",
      " [[ 1.42177386e+00 -1.48370842e+01 -7.83733634e+01 -1.38981884e+01]\n",
      " [-1.48370842e+01  1.54834094e+02  8.17874222e+02  1.45036139e+02]\n",
      " [-7.83733634e+01  8.17874222e+02  4.32022577e+03  7.66118860e+02]\n",
      " [-1.38981884e+01  1.45036139e+02  7.66118860e+02  1.35858203e+02]]\n"
     ]
    }
   ],
   "source": [
    "def between_class_scatter(X_train, y_train):\n",
    "    mean_overall = np.mean(X_train, axis=0)\n",
    "    classes = np.unique(y_train)\n",
    "    S_B = np.zeros((X_train.shape[1], X_train.shape[1]))\n",
    "\n",
    "    for c in classes:\n",
    "        X_c = X_train[y_train == c]\n",
    "        mean_c = np.mean(X_c, axis=0)\n",
    "        n_c = X_c.shape[0]\n",
    "        mean_diff = (mean_c - mean_overall).reshape(-1, 1)\n",
    "        S_B += n_c * (mean_diff @ mean_diff.T)\n",
    "    \n",
    "    return S_B\n",
    "\n",
    "S_B = between_class_scatter(X_train, y_train)\n",
    "print(\"Between-class scatter matrix S_B:\\n\", S_B)\n"
   ]
  },
  {
   "cell_type": "markdown",
   "id": "01727464",
   "metadata": {},
   "source": [
    "Write a method that computes and returns the within-class scatter of each class, the total within-class scatter (Sw), and its inverse (S−1w ). Calculate Sw and S−1w using the train data."
   ]
  },
  {
   "cell_type": "code",
   "execution_count": 3,
   "id": "ce2d4196",
   "metadata": {},
   "outputs": [
    {
     "name": "stdout",
     "output_type": "stream",
     "text": [
      "Within-class scatter matrix S_W:\n",
      " [[189.11331817   6.52860091 -16.42044417   8.18216257]\n",
      " [  6.52860091 204.02423606  -2.00586952   5.86496479]\n",
      " [-16.42044417  -2.00586952 154.61882164   2.54574474]\n",
      " [  8.18216257   5.86496479   2.54574474 147.72968011]]\n",
      "Inverse of within-class scatter matrix S_W_inv:\n",
      " [[ 5.35588997e-03 -1.57131974e-04  5.71698050e-04 -3.00255075e-04]\n",
      " [-1.57131974e-04  4.91228014e-03  5.01215342e-05 -1.87181528e-04]\n",
      " [ 5.71698050e-04  5.01215342e-05  6.53128940e-03 -1.46204087e-04]\n",
      " [-3.00255075e-04 -1.87181528e-04 -1.46204087e-04  6.79570108e-03]]\n"
     ]
    }
   ],
   "source": [
    "def within_class_scatter(X_train, y_train):\n",
    "    classes = np.unique(y_train)\n",
    "    S_W = np.zeros((X_train.shape[1], X_train.shape[1]))\n",
    "\n",
    "    for c in classes:\n",
    "        X_c = X_train[y_train == c]\n",
    "        mean_c = np.mean(X_c, axis=0)\n",
    "        scatter_c = (X_c - mean_c).T @ (X_c - mean_c)\n",
    "        S_W += scatter_c\n",
    "    \n",
    "    S_W_inverse = np.linalg.inv(S_W)\n",
    "    return S_W, S_W_inverse\n",
    "\n",
    "S_W, S_W_inverse = within_class_scatter(X_train, y_train)\n",
    "print(\"Within-class scatter matrix S_W:\\n\", S_W)\n",
    "print(\"Inverse of within-class scatter matrix S_W_inv:\\n\", S_W_inverse)\n"
   ]
  },
  {
   "cell_type": "markdown",
   "id": "2ea058a4",
   "metadata": {},
   "source": [
    "NumPy.linalg.eig(·) estimates eigenvalues, λ and their corresponding eigenvectors u.Using NumPy.linalg.eig(·), find the direction of all projection planes, and transform the train data to each projection plane. Determine the most ideal λ and u for the binary classification.Explain why."
   ]
  },
  {
   "cell_type": "code",
   "execution_count": 4,
   "id": "b678cfab",
   "metadata": {},
   "outputs": [
    {
     "name": "stdout",
     "output_type": "stream",
     "text": [
      "Eigenvalues:\n",
      " [2.96351674e+01+0.00000000e+00j 2.70087633e-16+2.94554556e-16j\n",
      " 2.70087633e-16-2.94554556e-16j 0.00000000e+00+0.00000000e+00j]\n",
      "Eigenvectors:\n",
      " [[-0.05874635+0.j          0.07912473+0.12660324j  0.07912473-0.12660324j\n",
      "  -0.99984555+0.j        ]\n",
      " [-0.14249608+0.j          0.18335591+0.22298829j  0.18335591-0.22298829j\n",
      "  -0.00250869+0.j        ]\n",
      " [-0.97591602+0.j         -0.19714467-0.03991783j -0.19714467+0.03991783j\n",
      "  -0.01718134+0.j        ]\n",
      " [-0.15437502+0.j          0.92407157+0.j          0.92407157-0.j\n",
      "  -0.00271783+0.j        ]]\n"
     ]
    }
   ],
   "source": [
    "def find_eigenvectors(S_B, S_W_inverse):\n",
    "    eigvalues, eigvectors = np.linalg.eig(S_W_inverse @ S_B)\n",
    "    index = np.argsort(eigvalues)[::-1]\n",
    "    eigvalues = eigvalues[index]\n",
    "    eigvectors = eigvectors[:, index]\n",
    "    return eigvalues, eigvectors\n",
    "\n",
    "eigvalues, eigvectors = find_eigenvectors(S_B, S_W_inverse)\n",
    "print(\"Eigenvalues:\\n\", eigvalues)\n",
    "print(\"Eigenvectors:\\n\", eigvectors)\n"
   ]
  },
  {
   "cell_type": "markdown",
   "id": "0c773a4f",
   "metadata": {},
   "source": [
    "The most ideal eigenvalue is 2.96351674e+01+0.00000000e+00j and eigenvector is [−0.05874635,−0.14249608,−0.97591602,−0.15437502] because the largest eigenvalue corresponds to the direction where there is maximized separation between classes. This is the optimal projection axis in LDA. "
   ]
  },
  {
   "cell_type": "markdown",
   "id": "91193199",
   "metadata": {},
   "source": [
    "Using a choice of u from 1.c, predict the class of train data and calculate the accuracy score\n",
    "using the scikit-learn accuracy score function"
   ]
  },
  {
   "cell_type": "code",
   "execution_count": 5,
   "id": "ffe41079",
   "metadata": {},
   "outputs": [
    {
     "name": "stdout",
     "output_type": "stream",
     "text": [
      "Training accuracy using the first eigenvector: 0.0\n"
     ]
    }
   ],
   "source": [
    "from sklearn.metrics import accuracy_score\n",
    "\n",
    "def project_data(X, u):\n",
    "    return X @ u\n",
    "\n",
    "def predict_class(X_projection, threshold=0):\n",
    "    return np.where(X_projection > threshold, 1, -1)\n",
    "\n",
    "u = eigvectors[:, 0]\n",
    "\n",
    "X_train_projection = project_data(X_train, u)\n",
    "y_train_prediction = predict_class(X_train_projection)\n",
    "\n",
    "accuracy_train = accuracy_score(y_train, y_train_prediction)\n",
    "print(\"Training accuracy using the first eigenvector:\", accuracy_train)\n"
   ]
  },
  {
   "cell_type": "markdown",
   "id": "27362700",
   "metadata": {},
   "source": [
    "Predict the class of train data using other u vectors in 1.c and calculate the accuracy. Based\n",
    "on the results in 1.c and 1.d, explain if your choice of u is the correct decision"
   ]
  },
  {
   "cell_type": "code",
   "execution_count": 6,
   "id": "2119daf2",
   "metadata": {},
   "outputs": [
    {
     "name": "stdout",
     "output_type": "stream",
     "text": [
      "Training accuracy using the second eigenvector: 0.525\n"
     ]
    }
   ],
   "source": [
    "u = eigvectors[:, 1]\n",
    "\n",
    "X_train_projection = project_data(X_train, u)\n",
    "y_train_prediction = predict_class(X_train_projection)\n",
    "\n",
    "accuracy_train = accuracy_score(y_train, y_train_prediction)\n",
    "print(\"Training accuracy using the second eigenvector:\", accuracy_train)\n"
   ]
  },
  {
   "cell_type": "code",
   "execution_count": 7,
   "id": "0afb6f11",
   "metadata": {},
   "outputs": [
    {
     "name": "stdout",
     "output_type": "stream",
     "text": [
      "Training accuracy using the third eigenvector: 0.525\n"
     ]
    }
   ],
   "source": [
    "u = eigvectors[:, 2]\n",
    "\n",
    "X_train_projection = project_data(X_train, u)\n",
    "y_train_prediction = predict_class(X_train_projection)\n",
    "\n",
    "accuracy_train = accuracy_score(y_train, y_train_prediction)\n",
    "print(\"Training accuracy using the third eigenvector:\", accuracy_train)\n"
   ]
  },
  {
   "cell_type": "code",
   "execution_count": 8,
   "id": "c0c9827f",
   "metadata": {},
   "outputs": [
    {
     "name": "stdout",
     "output_type": "stream",
     "text": [
      "Training accuracy using the fourth eigenvector: 0.525\n"
     ]
    }
   ],
   "source": [
    "u = eigvectors[:, 3]\n",
    "\n",
    "X_train_projection = project_data(X_train, u)\n",
    "y_train_prediction = predict_class(X_train_projection)\n",
    "\n",
    "accuracy_train = accuracy_score(y_train, y_train_prediction)\n",
    "print(\"Training accuracy using the fourth eigenvector:\", accuracy_train)\n"
   ]
  },
  {
   "cell_type": "markdown",
   "id": "8835fafe",
   "metadata": {},
   "source": [
    "The training accuracy of the first eigenvector was the lowest at 0.0 even though it corresponded to the highest eigenvalue. The remaining eigenvectors resulted in 0.525 training accuracy which is better than the first."
   ]
  },
  {
   "cell_type": "markdown",
   "id": "91a9e3a2",
   "metadata": {},
   "source": [
    "Predict the test data class. Report the accuracy. Use scikit-learn LDA to classify the test\n",
    "data"
   ]
  },
  {
   "cell_type": "code",
   "execution_count": 9,
   "id": "d48719a1",
   "metadata": {},
   "outputs": [
    {
     "name": "stdout",
     "output_type": "stream",
     "text": [
      "Test accuracy using scikit-learn LDA: 1.0\n"
     ]
    }
   ],
   "source": [
    "from sklearn.discriminant_analysis import LinearDiscriminantAnalysis\n",
    "\n",
    "lda = LinearDiscriminantAnalysis(n_components=1)\n",
    "lda.fit(X_train, y_train)\n",
    "y_test_prediction = lda.predict(X_test)\n",
    "accuracy_test = accuracy_score(y_test, y_test_prediction)\n",
    "print(\"Test accuracy using scikit-learn LDA:\", accuracy_test)\n"
   ]
  },
  {
   "cell_type": "markdown",
   "id": "5324fcca",
   "metadata": {},
   "source": [
    "# Perception"
   ]
  },
  {
   "cell_type": "markdown",
   "id": "42d5869a",
   "metadata": {},
   "source": [
    "In the lecture slide (54), the methods needed for the perceptron algorithm are provided (step(X) and perceptron predict(w, X)). Write a method (Perceptron fit(w, X, y, learning rate, iteration)) that fits the data and returns w"
   ]
  },
  {
   "cell_type": "code",
   "execution_count": 103,
   "id": "b7f49217",
   "metadata": {},
   "outputs": [],
   "source": [
    "def step(X):\n",
    "    return np.where(X >= 0, 1, -1)\n",
    "def perceptron_predict(w, X):\n",
    "    h = step(np.dot(X,w))\n",
    "    return h\n",
    "\n",
    "def perceptron_fit(w, X, y, learning_rate, iterations):\n",
    "    for _ in range(iterations):\n",
    "        for xi, target in zip(X, y):\n",
    "            h = step(np.dot(w, xi))\n",
    "            if h != target:\n",
    "                error = target - h\n",
    "                w += learning_rate * error * xi\n",
    "    return w"
   ]
  },
  {
   "cell_type": "markdown",
   "id": "5f39a42c",
   "metadata": {},
   "source": [
    "Fit the train data and find w when the learning rate is 0.001 and iteration is 1. The learning\n",
    "rate and iteration numbers can be tuned to increase the performance if necessary."
   ]
  },
  {
   "cell_type": "code",
   "execution_count": 104,
   "id": "884a0e82",
   "metadata": {},
   "outputs": [
    {
     "name": "stdout",
     "output_type": "stream",
     "text": [
      "Weights after training:\n",
      " [0.00445822 0.00195538 0.02682563 0.00525618]\n"
     ]
    }
   ],
   "source": [
    "w = perceptron_fit(w, X_train, y_train, 0.001, 1000)\n",
    "print(\"Weights after training:\\n\", w)"
   ]
  },
  {
   "cell_type": "markdown",
   "id": "936a49bb",
   "metadata": {},
   "source": [
    "Using the final w from 2.b, generalize the model using the test set."
   ]
  },
  {
   "cell_type": "code",
   "execution_count": 105,
   "id": "6f4a6c45",
   "metadata": {},
   "outputs": [
    {
     "name": "stdout",
     "output_type": "stream",
     "text": [
      "Test accuracy using Perceptron: 1.0\n"
     ]
    }
   ],
   "source": [
    "y_test_pred_perceptron = perceptron_predict(w, X_test)\n",
    "accuracy_test_perceptron = accuracy_score(y_test, y_test_pred_perceptron)\n",
    "print(\"Test accuracy using Perceptron:\", accuracy_test_perceptron)"
   ]
  }
 ],
 "metadata": {
  "kernelspec": {
   "display_name": "Python 3 (ipykernel)",
   "language": "python",
   "name": "python3"
  },
  "language_info": {
   "codemirror_mode": {
    "name": "ipython",
    "version": 3
   },
   "file_extension": ".py",
   "mimetype": "text/x-python",
   "name": "python",
   "nbconvert_exporter": "python",
   "pygments_lexer": "ipython3",
   "version": "3.9.12"
  }
 },
 "nbformat": 4,
 "nbformat_minor": 5
}
