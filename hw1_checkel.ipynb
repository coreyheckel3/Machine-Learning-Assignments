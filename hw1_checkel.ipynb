{
 "cells": [
  {
   "cell_type": "markdown",
   "id": "8485700f",
   "metadata": {},
   "source": [
    "# CS559 HW 1"
   ]
  },
  {
   "cell_type": "markdown",
   "id": "3bc45b01",
   "metadata": {},
   "source": [
    "Import pandas and read CSV"
   ]
  },
  {
   "cell_type": "code",
   "execution_count": 497,
   "id": "4b92d8a4",
   "metadata": {
    "scrolled": true
   },
   "outputs": [
    {
     "data": {
      "text/html": [
       "<div>\n",
       "<style scoped>\n",
       "    .dataframe tbody tr th:only-of-type {\n",
       "        vertical-align: middle;\n",
       "    }\n",
       "\n",
       "    .dataframe tbody tr th {\n",
       "        vertical-align: top;\n",
       "    }\n",
       "\n",
       "    .dataframe thead th {\n",
       "        text-align: right;\n",
       "    }\n",
       "</style>\n",
       "<table border=\"1\" class=\"dataframe\">\n",
       "  <thead>\n",
       "    <tr style=\"text-align: right;\">\n",
       "      <th></th>\n",
       "      <th>No</th>\n",
       "      <th>X1 transaction date</th>\n",
       "      <th>X2 house age</th>\n",
       "      <th>X3 distance to the nearest MRT station</th>\n",
       "      <th>X4 number of convenience stores</th>\n",
       "      <th>X5 latitude</th>\n",
       "      <th>X6 longitude</th>\n",
       "      <th>Y house price of unit area</th>\n",
       "    </tr>\n",
       "  </thead>\n",
       "  <tbody>\n",
       "    <tr>\n",
       "      <th>0</th>\n",
       "      <td>1</td>\n",
       "      <td>2012.917</td>\n",
       "      <td>32.0</td>\n",
       "      <td>84.87882</td>\n",
       "      <td>10</td>\n",
       "      <td>24.98298</td>\n",
       "      <td>121.54024</td>\n",
       "      <td>37.9</td>\n",
       "    </tr>\n",
       "    <tr>\n",
       "      <th>1</th>\n",
       "      <td>2</td>\n",
       "      <td>2012.917</td>\n",
       "      <td>19.5</td>\n",
       "      <td>306.59470</td>\n",
       "      <td>9</td>\n",
       "      <td>24.98034</td>\n",
       "      <td>121.53951</td>\n",
       "      <td>42.2</td>\n",
       "    </tr>\n",
       "    <tr>\n",
       "      <th>2</th>\n",
       "      <td>3</td>\n",
       "      <td>2013.583</td>\n",
       "      <td>13.3</td>\n",
       "      <td>561.98450</td>\n",
       "      <td>5</td>\n",
       "      <td>24.98746</td>\n",
       "      <td>121.54391</td>\n",
       "      <td>47.3</td>\n",
       "    </tr>\n",
       "    <tr>\n",
       "      <th>3</th>\n",
       "      <td>4</td>\n",
       "      <td>2013.500</td>\n",
       "      <td>13.3</td>\n",
       "      <td>561.98450</td>\n",
       "      <td>5</td>\n",
       "      <td>24.98746</td>\n",
       "      <td>121.54391</td>\n",
       "      <td>54.8</td>\n",
       "    </tr>\n",
       "    <tr>\n",
       "      <th>4</th>\n",
       "      <td>5</td>\n",
       "      <td>2012.833</td>\n",
       "      <td>5.0</td>\n",
       "      <td>390.56840</td>\n",
       "      <td>5</td>\n",
       "      <td>24.97937</td>\n",
       "      <td>121.54245</td>\n",
       "      <td>43.1</td>\n",
       "    </tr>\n",
       "  </tbody>\n",
       "</table>\n",
       "</div>"
      ],
      "text/plain": [
       "   No  X1 transaction date  X2 house age  \\\n",
       "0   1             2012.917          32.0   \n",
       "1   2             2012.917          19.5   \n",
       "2   3             2013.583          13.3   \n",
       "3   4             2013.500          13.3   \n",
       "4   5             2012.833           5.0   \n",
       "\n",
       "   X3 distance to the nearest MRT station  X4 number of convenience stores  \\\n",
       "0                                84.87882                               10   \n",
       "1                               306.59470                                9   \n",
       "2                               561.98450                                5   \n",
       "3                               561.98450                                5   \n",
       "4                               390.56840                                5   \n",
       "\n",
       "   X5 latitude  X6 longitude  Y house price of unit area  \n",
       "0     24.98298     121.54024                        37.9  \n",
       "1     24.98034     121.53951                        42.2  \n",
       "2     24.98746     121.54391                        47.3  \n",
       "3     24.98746     121.54391                        54.8  \n",
       "4     24.97937     121.54245                        43.1  "
      ]
     },
     "execution_count": 497,
     "metadata": {},
     "output_type": "execute_result"
    }
   ],
   "source": [
    "import pandas as pd\n",
    "df = pd.read_csv('./Realestate.csv')\n",
    "df.head()"
   ]
  },
  {
   "cell_type": "markdown",
   "id": "11dee8b9",
   "metadata": {},
   "source": [
    "Extract features(X) and target(Y) from data."
   ]
  },
  {
   "cell_type": "code",
   "execution_count": 479,
   "id": "fe4afb18",
   "metadata": {},
   "outputs": [
    {
     "data": {
      "text/html": [
       "<div>\n",
       "<style scoped>\n",
       "    .dataframe tbody tr th:only-of-type {\n",
       "        vertical-align: middle;\n",
       "    }\n",
       "\n",
       "    .dataframe tbody tr th {\n",
       "        vertical-align: top;\n",
       "    }\n",
       "\n",
       "    .dataframe thead th {\n",
       "        text-align: right;\n",
       "    }\n",
       "</style>\n",
       "<table border=\"1\" class=\"dataframe\">\n",
       "  <thead>\n",
       "    <tr style=\"text-align: right;\">\n",
       "      <th></th>\n",
       "      <th>No</th>\n",
       "      <th>X1 transaction date</th>\n",
       "      <th>X2 house age</th>\n",
       "      <th>X3 distance to the nearest MRT station</th>\n",
       "      <th>X4 number of convenience stores</th>\n",
       "      <th>X5 latitude</th>\n",
       "      <th>X6 longitude</th>\n",
       "    </tr>\n",
       "  </thead>\n",
       "  <tbody>\n",
       "    <tr>\n",
       "      <th>0</th>\n",
       "      <td>1</td>\n",
       "      <td>2012.917</td>\n",
       "      <td>32.0</td>\n",
       "      <td>84.87882</td>\n",
       "      <td>10</td>\n",
       "      <td>24.98298</td>\n",
       "      <td>121.54024</td>\n",
       "    </tr>\n",
       "    <tr>\n",
       "      <th>1</th>\n",
       "      <td>2</td>\n",
       "      <td>2012.917</td>\n",
       "      <td>19.5</td>\n",
       "      <td>306.59470</td>\n",
       "      <td>9</td>\n",
       "      <td>24.98034</td>\n",
       "      <td>121.53951</td>\n",
       "    </tr>\n",
       "    <tr>\n",
       "      <th>2</th>\n",
       "      <td>3</td>\n",
       "      <td>2013.583</td>\n",
       "      <td>13.3</td>\n",
       "      <td>561.98450</td>\n",
       "      <td>5</td>\n",
       "      <td>24.98746</td>\n",
       "      <td>121.54391</td>\n",
       "    </tr>\n",
       "    <tr>\n",
       "      <th>3</th>\n",
       "      <td>4</td>\n",
       "      <td>2013.500</td>\n",
       "      <td>13.3</td>\n",
       "      <td>561.98450</td>\n",
       "      <td>5</td>\n",
       "      <td>24.98746</td>\n",
       "      <td>121.54391</td>\n",
       "    </tr>\n",
       "    <tr>\n",
       "      <th>4</th>\n",
       "      <td>5</td>\n",
       "      <td>2012.833</td>\n",
       "      <td>5.0</td>\n",
       "      <td>390.56840</td>\n",
       "      <td>5</td>\n",
       "      <td>24.97937</td>\n",
       "      <td>121.54245</td>\n",
       "    </tr>\n",
       "  </tbody>\n",
       "</table>\n",
       "</div>"
      ],
      "text/plain": [
       "   No  X1 transaction date  X2 house age  \\\n",
       "0   1             2012.917          32.0   \n",
       "1   2             2012.917          19.5   \n",
       "2   3             2013.583          13.3   \n",
       "3   4             2013.500          13.3   \n",
       "4   5             2012.833           5.0   \n",
       "\n",
       "   X3 distance to the nearest MRT station  X4 number of convenience stores  \\\n",
       "0                                84.87882                               10   \n",
       "1                               306.59470                                9   \n",
       "2                               561.98450                                5   \n",
       "3                               561.98450                                5   \n",
       "4                               390.56840                                5   \n",
       "\n",
       "   X5 latitude  X6 longitude  \n",
       "0     24.98298     121.54024  \n",
       "1     24.98034     121.53951  \n",
       "2     24.98746     121.54391  \n",
       "3     24.98746     121.54391  \n",
       "4     24.97937     121.54245  "
      ]
     },
     "execution_count": 479,
     "metadata": {},
     "output_type": "execute_result"
    }
   ],
   "source": [
    "features = df.iloc[:, :-1]\n",
    "target = df.iloc[:, -1]\n",
    "features.head()"
   ]
  },
  {
   "cell_type": "code",
   "execution_count": 480,
   "id": "cdb5a648",
   "metadata": {},
   "outputs": [
    {
     "data": {
      "text/plain": [
       "0    37.9\n",
       "1    42.2\n",
       "2    47.3\n",
       "3    54.8\n",
       "4    43.1\n",
       "Name: Y house price of unit area, dtype: float64"
      ]
     },
     "execution_count": 480,
     "metadata": {},
     "output_type": "execute_result"
    }
   ],
   "source": [
    "target.head()"
   ]
  },
  {
   "cell_type": "markdown",
   "id": "e9206964",
   "metadata": {},
   "source": [
    "Standardize features and target data using each feature's mean and standard deviation"
   ]
  },
  {
   "cell_type": "code",
   "execution_count": 481,
   "id": "afd8aae2",
   "metadata": {},
   "outputs": [],
   "source": [
    "features_mean = features.mean()\n",
    "features_std = features.std()\n",
    "features_standardized = (features - features_mean) / features_std\n",
    "\n",
    "target_mean = target.mean()\n",
    "target_std = target.std()\n",
    "target_standardized = (target - target_mean) / target_std"
   ]
  },
  {
   "cell_type": "markdown",
   "id": "3a27ad84",
   "metadata": {},
   "source": [
    "Using Scikit-learn Linear Regression to predict the target and report the RMSE"
   ]
  },
  {
   "cell_type": "code",
   "execution_count": 482,
   "id": "cc393758",
   "metadata": {},
   "outputs": [
    {
     "name": "stdout",
     "output_type": "stream",
     "text": [
      "target_prediction = [ 7.28678500e-01  7.77751804e-01  8.45574780e-01  8.14328087e-01\n",
      "  6.55215345e-01 -4.45470930e-01  9.98534774e-02  7.02593314e-01\n",
      " -2.06986808e+00 -1.83466226e-01 -2.70913107e-01  1.16191648e+00\n",
      "  2.62019545e-01 -7.57540131e-01  6.08259846e-01  5.55837221e-02\n",
      "  9.88519582e-01 -3.74133588e-03  6.90898482e-01  7.56095616e-01\n",
      " -1.48644088e-01  8.91574124e-01 -6.22995537e-01  7.74331128e-01\n",
      " -1.82009697e-01 -3.92797458e-01  6.50378541e-01  3.51701734e-01\n",
      "  3.95965679e-01  6.13457839e-01 -1.76989840e+00  2.33226976e-01\n",
      " -4.91267379e-01  6.63298680e-01  7.16428628e-01 -3.14448218e-01\n",
      " -5.03653289e-01 -4.79891553e-01  5.16238400e-01  6.24177751e-01\n",
      " -1.68814064e+00 -1.53647304e+00 -6.30206623e-02  2.04423621e-01\n",
      "  7.53167524e-01  1.70159557e-01  6.85274934e-01  3.49847716e-03\n",
      " -1.82374095e+00 -2.05261099e+00  3.20722992e-01 -1.00341351e+00\n",
      " -1.90213581e-01  3.07184938e-01  5.90850880e-01 -1.03770465e+00\n",
      "  4.34785646e-01  6.22974880e-01 -1.76195696e+00  2.38635372e-01\n",
      " -2.52041953e-01  9.48664797e-01 -5.68859429e-01  7.50140121e-01\n",
      " -3.15439355e-01  4.45307924e-01  7.05342002e-01  7.06170626e-01\n",
      "  4.18360907e-01  5.63841052e-01  1.23368391e+00 -1.81519946e-01\n",
      "  5.53247048e-01 -1.63849861e+00  1.12304996e+00 -3.71595388e-01\n",
      "  2.97943883e-02 -6.69620649e-01 -3.43415419e-01 -6.95037686e-01\n",
      "  5.31538535e-01  2.45438164e-02  6.10120547e-01 -9.48537244e-01\n",
      "  4.93978599e-01  8.70720716e-01 -4.60742886e-01 -1.51962967e+00\n",
      " -4.49639484e-02 -1.55184534e+00  3.75884129e-01  7.53511982e-02\n",
      " -6.89064205e-01 -1.02424960e+00 -1.91210799e-01  4.91103739e-01\n",
      "  1.16883315e+00 -4.69108081e-03  6.97935717e-01  1.16804084e+00\n",
      "  5.19486306e-01  1.37493980e-01  7.24826384e-01  4.62471157e-01\n",
      " -1.56342232e-01  8.09354975e-01  7.55892830e-01 -4.40394585e-01\n",
      " -1.00370443e-01 -6.14232220e-02  5.47116855e-01  5.35283730e-01\n",
      " -2.70680853e-01  4.13248780e-01  4.22673543e-01  6.46610823e-02\n",
      " -2.67569405e+00 -1.79140062e+00 -2.82662151e-01  7.19391095e-01\n",
      "  3.20845976e-01  4.38913917e-01  2.02063792e-01  4.69332007e-01\n",
      "  6.89672709e-01  7.50107912e-01 -1.81298205e-01  8.27395194e-01\n",
      " -4.19076371e-02  4.22569308e-01  5.20619374e-01 -9.82160584e-02\n",
      "  2.06329261e-01  7.38180470e-01 -7.55001581e-02 -5.13618248e-01\n",
      "  4.61977015e-01  5.66190107e-01  5.06016026e-02  1.37148062e-01\n",
      "  6.28486035e-01  1.57408644e-01  3.02918477e-01  4.33103672e-01\n",
      " -5.37515812e-01  6.20383591e-01  2.14277077e-01  6.83733460e-01\n",
      " -1.63665599e+00  1.81823514e-01  1.96890722e-01  1.23500610e+00\n",
      " -4.48298106e-01  4.19142192e-01 -1.56830710e+00 -1.66015498e+00\n",
      " -8.12549591e-01  3.25052146e-01  5.45506757e-01  1.18842447e-01\n",
      "  6.95745780e-01  2.77799949e-01 -1.83246827e+00  6.80816830e-01\n",
      "  2.40505831e-01 -1.94464847e-01  1.01124274e+00  5.52573704e-01\n",
      " -5.72820244e-02 -5.13132735e-01 -1.84851799e+00  7.57417308e-01\n",
      "  1.20674550e+00 -4.34619593e-02  1.01807143e+00 -1.40075999e-01\n",
      " -1.82892680e+00  5.07273617e-01  5.76488674e-01  1.17891816e-01\n",
      " -2.10543925e+00  1.00590676e+00 -3.00786129e-01 -1.60694332e+00\n",
      " -1.18232550e+00 -5.47158416e-01 -5.81692980e-01 -1.14994661e+00\n",
      "  3.21721504e-01 -1.78323217e+00  4.33549572e-01  9.79063400e-02\n",
      "  4.04034898e-02  7.68036104e-01 -1.60999377e+00  1.52861469e-01\n",
      " -1.99382669e-02  3.38618718e-01  1.47813853e-01  6.21259451e-01\n",
      " -3.18010822e-01  7.35034360e-01 -3.35107792e-01  4.06166111e-01\n",
      " -7.28050442e-01 -5.80248954e-02  9.05949677e-01 -2.94899267e-01\n",
      " -6.70759851e-01  2.30597919e-01  8.45809835e-01  4.37248840e-01\n",
      " -3.88411497e-02  1.01723734e+00 -1.79623034e-01  6.30586058e-01\n",
      " -4.18746456e-01  2.46440454e-01  3.82313427e-01  3.19984219e-01\n",
      "  5.04789434e-01  7.39910585e-02  8.05568397e-01  4.04897277e-02\n",
      "  2.81832191e-01  7.54680299e-01 -1.79498914e+00  3.95846893e-01\n",
      " -2.76376714e-01 -8.02150534e-01 -1.24362161e-01 -1.83679389e+00\n",
      " -1.91222142e+00  4.58011963e-01 -2.87401194e-01  3.98130014e-01\n",
      "  1.23568427e+00  4.30050107e-03 -2.33384056e-02 -2.52397983e-01\n",
      " -3.45983928e-01  6.60584293e-01 -3.04348187e-01  6.20426630e-01\n",
      "  4.28566812e-02  5.58903948e-01  4.13515453e-01 -4.82738212e-01\n",
      " -5.14469724e-01 -2.25665597e+00  1.08401440e-01 -1.05913777e+00\n",
      "  9.19587911e-01 -8.89412323e-01  6.75741505e-01 -2.16210281e+00\n",
      " -3.67433433e-02  9.35086372e-02  9.86945353e-01 -4.05377407e-01\n",
      " -5.79419592e-02 -6.15580133e-01  4.77933542e-01 -1.62069585e-01\n",
      "  1.30638102e-01  1.48831741e-01 -3.11688384e-01 -1.15234819e-01\n",
      "  5.60645072e-01 -4.37010483e-01  3.03966321e-01  4.25554664e-01\n",
      "  1.31014546e-01  3.00113742e-01  3.23863075e-01  6.88485491e-01\n",
      " -7.04653285e-02 -5.18376815e-01  4.16253298e-01  1.72897995e-01\n",
      "  7.21026046e-01  1.14231544e+00 -4.85132083e-01 -3.97264769e-01\n",
      "  3.81183542e-01 -1.33124655e-01  9.41964317e-01 -7.53609864e-02\n",
      "  7.18264345e-01  6.65899736e-01 -5.36713322e-01  5.31809660e-01\n",
      "  5.72480983e-02  3.33258416e-01  5.07825669e-01 -5.58852443e-01\n",
      "  2.77304670e-01 -3.16738623e-01 -1.69368191e+00  6.86718340e-01\n",
      "  5.12750542e-01 -6.58147558e-01 -5.08076273e-01 -3.88345030e-01\n",
      " -2.70909275e-01  5.22570730e-01  2.98266672e-01 -1.27307479e+00\n",
      "  6.42474287e-01 -9.69298712e-01 -4.67586502e-01  1.62469457e-01\n",
      "  4.63499727e-01  5.82844126e-01  6.49027730e-01 -1.58354607e-01\n",
      "  5.55417723e-01 -5.37863757e-02  1.20792369e+00 -2.10556973e-01\n",
      " -1.93634386e+00  2.55438259e-01  1.34557985e-01  4.13911081e-01\n",
      " -5.51322237e-01  9.62109829e-02  7.57612923e-01  4.56335740e-01\n",
      " -3.08367879e-01 -1.84739025e+00 -1.02754367e+00 -1.90575998e+00\n",
      " -3.75177072e-01  3.69890055e-01  7.97025993e-02  2.57720940e-01\n",
      " -6.99924418e-02 -2.06435245e-01  2.69243641e-01  8.89956917e-01\n",
      " -2.89319394e-01 -6.63632985e-05  8.37834615e-01  3.06415494e-01\n",
      " -7.48872638e-01  1.30738178e-01 -2.93093591e-01 -2.05329273e+00\n",
      "  6.37820674e-01  3.65664422e-01  1.99754573e-01 -4.11636032e-01\n",
      " -8.88406338e-01 -1.58837249e-01 -4.74271915e-01  7.67179927e-01\n",
      "  1.11629264e-01  1.04786554e+00  6.88572135e-01 -7.06906497e-01\n",
      "  5.21912149e-01  1.18879012e-01  4.26422319e-01  8.16322719e-01\n",
      "  2.68888130e-01 -6.15943766e-01 -9.25678988e-01 -5.80844855e-01\n",
      "  1.42586751e-01 -8.02732023e-01  3.87072054e-01  4.66679646e-01\n",
      "  7.28680410e-02  3.94464308e-01  7.05194970e-01 -5.90197078e-01\n",
      " -3.26388211e-01  7.85759734e-01  1.37438643e-01  9.23633130e-01\n",
      "  6.37885379e-01  1.19404870e+00 -1.81808051e+00 -1.19366958e-01\n",
      " -1.89308946e+00  9.31656177e-01  1.81875176e-01 -5.31756140e-01\n",
      " -3.02433146e-01  1.37842261e-01  4.54199198e-01 -5.09091525e-01\n",
      " -3.67769650e-02  2.66556702e-01 -1.67090827e+00  5.29183464e-02\n",
      " -7.87369775e-01  4.78116705e-01 -3.32198456e-01  9.01474447e-02\n",
      "  1.62551433e-01 -4.04721778e-01  5.50724254e-02  4.51916784e-01\n",
      "  5.85764615e-01 -7.21104615e-02  8.03527251e-01 -8.98263370e-01\n",
      " -4.94854496e-01 -1.78758483e+00  8.21866211e-01  5.94983005e-01\n",
      "  4.36375445e-01  1.11410485e+00]\n"
     ]
    }
   ],
   "source": [
    "from sklearn.linear_model import LinearRegression\n",
    "from sklearn.metrics import mean_squared_error\n",
    "model = LinearRegression()\n",
    "model.fit(features_standardized, target_standardized)\n",
    "target_prediction = model.predict(features_standardized)\n",
    "print(f'target_prediction = {target_prediction}')"
   ]
  },
  {
   "cell_type": "code",
   "execution_count": 483,
   "id": "6a2af17b",
   "metadata": {},
   "outputs": [
    {
     "name": "stdout",
     "output_type": "stream",
     "text": [
      "RMSE = 0.6446940122525379\n"
     ]
    }
   ],
   "source": [
    "import numpy as np\n",
    "mse = mean_squared_error(target_standardized, target_prediction)\n",
    "rmse_scikit = np.sqrt(mse)\n",
    "print(f'RMSE = {rmse_scikit}')"
   ]
  },
  {
   "cell_type": "markdown",
   "id": "3fe6057b",
   "metadata": {},
   "source": [
    "Using the Numpy Linear Regression implemented in the lecture to predict the target and report the RMSE value when the learning rate is 0.5 and the iteration is 100"
   ]
  },
  {
   "cell_type": "markdown",
   "id": "6f437e4b",
   "metadata": {},
   "source": [
    "Define Numpy Linear Regression Class"
   ]
  },
  {
   "cell_type": "code",
   "execution_count": 484,
   "id": "664bd632",
   "metadata": {},
   "outputs": [],
   "source": [
    "class Linear_regression():\n",
    "    def __init__(self, learning_rate, iterations):\n",
    "        self.learning_rate = learning_rate\n",
    "        self.iterations = iterations\n",
    "        \n",
    "    # Model Training Function\n",
    "    def fit(self, X, Y):\n",
    "        # Number of training example, Number of features\n",
    "        self.m, self.n = X.shape\n",
    "        # Weight initialization\n",
    "        self.W = np.zeros(self.n)\n",
    "        self.b = 0\n",
    "        self.X = X\n",
    "        self.Y = Y\n",
    "        # Gradient Descent Learning \n",
    "        for i in range(self.iterations):\n",
    "            self.update_weights()\n",
    "            return self\n",
    "    \n",
    "    # Function to update weights in Gradient Descent\n",
    "    def update_weights(self):\n",
    "        Y_pred = self.predict( self.X)\n",
    "        # Gradient calculations\n",
    "        dW = - (2 * (self.X.T).dot( self.Y - Y_pred)) / self.m\n",
    "        db = - 2 * np.sum( self.Y - Y_pred) / self.m\n",
    "        # Weight updates\n",
    "        self.W = self.W - self.learning_rate * dW\n",
    "        self.b = self.b - self.learning_rate * db\n",
    "        return self\n",
    "\n",
    "    # Hypthetical Function\n",
    "    def predict(self, X):\n",
    "        return X.dot(self.W) + self.b\n"
   ]
  },
  {
   "cell_type": "markdown",
   "id": "9fb885e6",
   "metadata": {},
   "source": [
    "Numpy Linear Regression Implementation"
   ]
  },
  {
   "cell_type": "code",
   "execution_count": 485,
   "id": "f4c176e1",
   "metadata": {
    "scrolled": true
   },
   "outputs": [
    {
     "name": "stdout",
     "output_type": "stream",
     "text": [
      "W= No                                       -0.028518\n",
      "X1 transaction date                       0.087279\n",
      "X2 house age                             -0.210058\n",
      "X3 distance to the nearest MRT station   -0.671986\n",
      "X4 number of convenience stores           0.569626\n",
      "X5 latitude                               0.544987\n",
      "X6 longitude                              0.522023\n",
      "dtype: float64\n",
      "b= -4.226356248331514e-16\n",
      "RMSE= 1.3472570978022358\n"
     ]
    }
   ],
   "source": [
    "model = Linear_regression(learning_rate = 0.5, iterations = 100)\n",
    "model.fit(features_standardized, target_standardized)\n",
    "target_prediction = model.predict(features_standardized)\n",
    "print(f'W= {model.W}')\n",
    "print(f'b= {model.b}')\n",
    "mse = mean_squared_error(target_standardized, target_prediction)\n",
    "rmse = np.sqrt(mse)\n",
    "print(f'RMSE= {rmse}')"
   ]
  },
  {
   "cell_type": "code",
   "execution_count": 486,
   "id": "2b1de395",
   "metadata": {},
   "outputs": [
    {
     "name": "stdout",
     "output_type": "stream",
     "text": [
      "RMSE_Needed = 0.7091634134777917\n"
     ]
    }
   ],
   "source": [
    "rmse_needed = rmse_scikit * 1.10\n",
    "print(f'RMSE_Needed = {rmse_needed}')"
   ]
  },
  {
   "cell_type": "markdown",
   "id": "fa104968",
   "metadata": {},
   "source": [
    "Tuning the learning rate and iterations"
   ]
  },
  {
   "cell_type": "code",
   "execution_count": 487,
   "id": "891202e7",
   "metadata": {},
   "outputs": [
    {
     "name": "stdout",
     "output_type": "stream",
     "text": [
      "W= No                                       -0.014259\n",
      "X1 transaction date                       0.043640\n",
      "X2 house age                             -0.105029\n",
      "X3 distance to the nearest MRT station   -0.335993\n",
      "X4 number of convenience stores           0.284813\n",
      "X5 latitude                               0.272494\n",
      "X6 longitude                              0.261011\n",
      "dtype: float64\n",
      "b= -2.113178124165757e-16\n",
      "RMSE= 0.7091598703599999\n"
     ]
    }
   ],
   "source": [
    "model = Linear_regression(learning_rate = .25, iterations = 100)\n",
    "model.fit(features_standardized, target_standardized)\n",
    "target_prediction = model.predict(features_standardized)\n",
    "print(f'W= {model.W}')\n",
    "print(f'b= {model.b}')\n",
    "mse = mean_squared_error(target_standardized, target_prediction)\n",
    "rmse_np = np.sqrt(mse)\n",
    "print(f'RMSE= {rmse_np}')"
   ]
  },
  {
   "cell_type": "code",
   "execution_count": 488,
   "id": "bbf2a822",
   "metadata": {},
   "outputs": [
    {
     "name": "stdout",
     "output_type": "stream",
     "text": [
      "RMSE_Numpy is not more than 10% of RMSE_Scikit\n",
      "learning_rate = 0.25\n",
      "iterations = 100\n"
     ]
    }
   ],
   "source": [
    "print(f'RMSE_Numpy is not more than 10% of RMSE_Scikit')\n",
    "print(f'learning_rate = 0.25')\n",
    "print(f'iterations = 100')   \n",
    "\n",
    "    "
   ]
  },
  {
   "cell_type": "markdown",
   "id": "6116b5e6",
   "metadata": {},
   "source": [
    "Define the Linear Regression SGD Class"
   ]
  },
  {
   "cell_type": "code",
   "execution_count": 489,
   "id": "cfd4c382",
   "metadata": {},
   "outputs": [],
   "source": [
    "class Linear_regression_SGD():\n",
    "    def __init__(self, learning_rate, iterations):\n",
    "        self.learning_rate = learning_rate\n",
    "        self.iterations = iterations\n",
    "        \n",
    "    # Model Training Function\n",
    "    def fit(self, X, Y):\n",
    "        # Number of training examples, Number of features\n",
    "        self.m, self.n = X.shape\n",
    "        # Weight initialization\n",
    "        self.W = np.random.randn(self.n)\n",
    "        self.b = 0\n",
    "        self.X = X\n",
    "        self.Y = Y\n",
    "        # Stochastic Gradient Descent Learning \n",
    "        for i in range(self.iterations):\n",
    "            indices = np.random.permutation(self.n)\n",
    "            X_shuffled = X[indices]\n",
    "            y_shuffled = Y[indices]\n",
    "            for j in range(self.n):\n",
    "                self.update_weights()\n",
    "        return self\n",
    "    \n",
    "    # Function to update weights in Stochastic Gradient Descent\n",
    "    def update_weights(self):\n",
    "        Y_prediction = self.predict(X)\n",
    "        # Gradient calculations\n",
    "        dW = -2 * X.T.dot(Y - Y_prediction)\n",
    "        db = -2 * np.sum(Y - Y_prediction)\n",
    "        # Weight updates\n",
    "        self.W = self.W - self.learning_rate * dW.flatten()\n",
    "        self.b = self.b - self.learning_rate * db\n",
    "        return self\n",
    "\n",
    "    # Hypothetical Function\n",
    "    def predict(self, X):\n",
    "        return X.dot(self.W) + self.b"
   ]
  },
  {
   "cell_type": "code",
   "execution_count": 490,
   "id": "df7c6924",
   "metadata": {},
   "outputs": [
    {
     "name": "stdout",
     "output_type": "stream",
     "text": [
      "Low = 0.5802246110272841\n",
      "High = 0.7091634134777917\n"
     ]
    }
   ],
   "source": [
    "low_rmse = rmse_scikit * 0.9\n",
    "high_rmse = rmse_scikit * 1.10\n",
    "print(f'Low = {low_rmse}')\n",
    "print(f'High = {high_rmse}')"
   ]
  },
  {
   "cell_type": "markdown",
   "id": "47016346",
   "metadata": {},
   "source": [
    "RMSE must be tuned to be within the values listed above"
   ]
  },
  {
   "cell_type": "markdown",
   "id": "8b427862",
   "metadata": {},
   "source": [
    "The original learning rate of 0.25 is too high causing inputs of NaN or Infinity. Lowering the learning rate is required and allows the model to function as intended. I removed the section of the code that presents the error and replaced it with the tuning of the parameters as expressed in the code snippit below"
   ]
  },
  {
   "cell_type": "code",
   "execution_count": 491,
   "id": "3f6291e7",
   "metadata": {},
   "outputs": [
    {
     "name": "stdout",
     "output_type": "stream",
     "text": [
      "W= [-0.03137031  0.10486465 -0.22688961 -0.41108807  0.24614584  0.20691806\n",
      " -0.01032341]\n",
      "b= -2.618744776583507e-13\n",
      "RMSE= 0.6447068070812252\n"
     ]
    }
   ],
   "source": [
    "X = features_standardized.values if isinstance(features_standardized, pd.DataFrame) else features_standardized\n",
    "Y = target_standardized.values if isinstance(target_standardized, pd.Series) else target_standardized\n",
    "model = Linear_regression_SGD(learning_rate = 0.00005, iterations = 100)\n",
    "model.fit(X, Y)\n",
    "target_prediction = model.predict(X)\n",
    "print(f'W= {model.W}')\n",
    "print(f'b= {model.b}')\n",
    "mse = mean_squared_error(Y, target_prediction)\n",
    "rmse_SGD = np.sqrt(mse)\n",
    "print(f'RMSE= {rmse_SGD}')"
   ]
  },
  {
   "cell_type": "code",
   "execution_count": 492,
   "id": "b1b1d5c8",
   "metadata": {},
   "outputs": [
    {
     "name": "stdout",
     "output_type": "stream",
     "text": [
      "RMSE_SGD is not more than or less than 10% of RMSE_Scikit\n",
      "learning_rate = 0.00005\n",
      "iterations = 100\n"
     ]
    }
   ],
   "source": [
    "print(f'RMSE_SGD is not more than or less than 10% of RMSE_Scikit')\n",
    "print(f'learning_rate = 0.00005')\n",
    "print(f'iterations = 100') "
   ]
  },
  {
   "cell_type": "markdown",
   "id": "c4e1bdef",
   "metadata": {},
   "source": [
    "The final learning rate is 0.00005 and the final iterations is 100. These values allow the RMSE_SGD to be within 10% of the RMSE_Scikit"
   ]
  }
 ],
 "metadata": {
  "kernelspec": {
   "display_name": "Python 3 (ipykernel)",
   "language": "python",
   "name": "python3"
  },
  "language_info": {
   "codemirror_mode": {
    "name": "ipython",
    "version": 3
   },
   "file_extension": ".py",
   "mimetype": "text/x-python",
   "name": "python",
   "nbconvert_exporter": "python",
   "pygments_lexer": "ipython3",
   "version": "3.9.12"
  }
 },
 "nbformat": 4,
 "nbformat_minor": 5
}
